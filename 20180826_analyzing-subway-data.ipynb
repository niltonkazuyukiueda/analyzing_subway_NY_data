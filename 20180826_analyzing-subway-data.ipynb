{
 "cells": [
  {
   "cell_type": "markdown",
   "metadata": {},
   "source": [
    "# Subway Data Analysis\n",
    "\n",
    "## Introdução\n",
    "\n",
    "O sistema de ônibus e trens de Nova Iorque - o Metro Transit Authority - fornece seus dados para download através de  arquivos csv. Uma das informações disponíveis são os dados das catracas do metrô que contém logs semanais de entradas cumulativas e saídas por catraca por estação de metrô em algum intervalo de tempo.\n",
    "\n",
    "Neste projeto iremos utilizar apenas os das catraca disponíveis em: http://web.mta.info/developers/turnstile.html."
   ]
  },
  {
   "cell_type": "markdown",
   "metadata": {},
   "source": [
    "# Sobre este projeto\n",
    "\n",
    "Neste projeto você irá aplicar todos os conhecimentos adquiridos neste primeiro mês de curso. Iremos praticar tarefas básicas de aquisição, limpeza de dados e nesse processo iremos descobrir coisas essenciais sobre os dados utilizando o que foi aprendido no curso de estatística. \n",
    "\n",
    "O objetivo deste projeto é explorar a relação entre os dados das catracas do metro de Nova Iorque e o clima no dia da coleta. Para isso, além dos dados do metrô, precisaremos os dados de clima da cidade de Nova Iorque. \n",
    "\n",
    "Os principais pontos que serão verificados neste trabalho:\n",
    "\n",
    "- Coleta de dados da internet\n",
    "- Utilização de estatística para análise de dados\n",
    "- Manipulação de dados e criação de gráficos simples com o Pandas"
   ]
  },
  {
   "cell_type": "code",
   "execution_count": 8,
   "metadata": {},
   "outputs": [],
   "source": [
    "import numpy as np\n",
    "import pandas as pd\n",
    "import seaborn as sns\n",
    "import matplotlib.pyplot as plt\n",
    "from scipy import stats"
   ]
  },
  {
   "cell_type": "markdown",
   "metadata": {},
   "source": [
    "## Seção 1 - Coleta de Dados\n",
    "\n",
    "### Exercicio 1.1\n",
    "\n",
    "Mãos a obra!! Agora é sua vez de coletar os dados. Escreva abaixo um código python que acesse o link http://web.mta.info/developers/turnstile.html e baixe os arquivos do mês de junho de 2017. O arquivo deverá ser salvo com o nome turnstile_100617.txt onde 10/06/17 é a data do arquivo.\n",
    "\n",
    "Abaixo seguem alguns comandos que poderão te ajudar:\n",
    "\n",
    "Utilize a biblioteca **urllib** para abrir e resgatar uma página da web. Utilize o comando abaixo onde **url** será o caminho da página da web onde se encontra o arquivo:\n",
    "\n",
    "```python\n",
    "u = urllib.urlopen(url)\n",
    "html = u.read()\n",
    "```\n",
    "\n",
    "Utilize a biblioteca **BeautifulSoup** para procurar na página pelo link do arquivo que deseja baixar. Utilize o comando abaixo para criar o seu objeto *soup* e procurar por todas as tags 'a'no documento:\n",
    " \n",
    " \n",
    "```python\n",
    "soup = BeautifulSoup(html, \"html.parser\")\n",
    "links = soup.find_all('a')\n",
    "```\n",
    "\n",
    "Uma dica para baixar apenas os arquivos do mês de junho é verificar a data no nome do arquivo. Por exemplo, para baixar o arquivo do dia 17/06/2017 verifique se o link termina com *\"turnstile_170610.txt\"*. Se não fizer isso você baixará todos os arquivos da página. Para fazer isso utilize o comando conforme abaixo:\n",
    "\n",
    "```python\n",
    "if '1706' in link.get('href'):\n",
    "```\n",
    "\n",
    "E a dica final é utilizar o comando abaixo para fazer o download do arquivo txt:\n",
    "\n",
    "```python\n",
    "urllib.urlretrieve(link_do_arquivo, filename)\n",
    "```\n",
    "\n",
    "Lembre-se, primeiro, carregue todos os pacotes e funções que você estará usando em sua análise."
   ]
  },
  {
   "cell_type": "code",
   "execution_count": 3,
   "metadata": {},
   "outputs": [
    {
     "name": "stdout",
     "output_type": "stream",
     "text": [
      "['full_data.txt', 'turnstile_171202.txt', 'turnstile_171209.txt', 'turnstile_171216.txt', 'turnstile_171223.txt', 'turnstile_171230.txt', 'turnstile_180106.txt', 'turnstile_180113.txt', 'turnstile_180120.txt', 'turnstile_180127.txt', 'turnstile_180203.txt', 'turnstile_180210.txt', 'turnstile_180217.txt', 'turnstile_180224.txt', 'turnstile_180303.txt', 'turnstile_180310.txt', 'turnstile_180317.txt', 'turnstile_180324.txt', 'turnstile_180331.txt', 'turnstile_180407.txt', 'turnstile_180414.txt', 'turnstile_180421.txt', 'turnstile_180428.txt', 'turnstile_180505.txt', 'turnstile_180512.txt', 'turnstile_180519.txt', 'turnstile_180526.txt', 'turnstile_180602.txt', 'turnstile_180609.txt', 'turnstile_180616.txt', 'turnstile_180623.txt', 'turnstile_180630.txt', 'turnstile_180707.txt', 'turnstile_180714.txt', 'turnstile_180721.txt', 'turnstile_180728.txt', 'turnstile_180804.txt', 'turnstile_180811.txt', 'turnstile_180818.txt', 'turnstile_180825.txt']\n"
     ]
    }
   ],
   "source": [
    "import os\n",
    "print(os.listdir('data'))"
   ]
  },
  {
   "cell_type": "code",
   "execution_count": 4,
   "metadata": {},
   "outputs": [],
   "source": [
    "from urllib.request import urlopen, urlretrieve\n",
    "from bs4 import BeautifulSoup\n",
    "\n",
    "base_path = \"http://web.mta.info/developers/\"\n",
    "url = f\"{base_path}turnstile.html/\"\n",
    "u = urlopen(url)\n",
    "html = u.read()\n",
    "\n",
    "soup = BeautifulSoup(html, \"html.parser\")\n",
    "container = soup.find('div', { 'class': 'container'})\n",
    "links = container.find_all('a')\n",
    "\n",
    "\n",
    "\n",
    "for link in links:\n",
    "    partial_path = link.get('href')\n",
    "        full_path = f\"{base_path}{partial_path}\"\n",
    "        filename = partial_path.split(\"/\")[-1]\n",
    "        urlretrieve(full_path, f\"data/{filename}\")"
   ]
  },
  {
   "cell_type": "markdown",
   "metadata": {},
   "source": [
    "### Exercicio 1.2\n",
    "\n",
    "Escreva uma função que pegue a lista de nomes dos arquivos que você baixou no exercicio 1.1 e consolide-os em um único arquivo. Deve existir apenas uma linha de cabeçalho no arquivo de saida. \n",
    "\n",
    "Por exemplo, se o arquivo_1 tiver:\n",
    "\n",
    "linha 1...\n",
    "linha 2...\n",
    "\n",
    "e o outro arquivo, arquivo_2 tiver:\n",
    "\n",
    "linha 3...\n",
    "linha 4...\n",
    "linha 5...\n",
    "\n",
    "Devemos combinar o arquivo_1 com arquivo_2 em um arquivo mestre conforme abaixo:\n",
    "\n",
    "'C/A, UNIT, SCP, DATEn, TIMEn, DESCn, ENTRIESn, EXITSn'\n",
    "\n",
    "linha 1...\n",
    "linha 2...\n",
    "linha 3...\n",
    "linha 4...\n",
    "linha 5..."
   ]
  },
  {
   "cell_type": "code",
   "execution_count": 5,
   "metadata": {},
   "outputs": [],
   "source": [
    "def create_master_turnstile_file(filenames, output_file):\n",
    "    with open(output_file, 'w') as master_file:\n",
    "        master_file.write('C/A,UNIT,SCP,STATION, LINENAME, DIVISION, DATEn,TIMEn,DESCn,ENTRIESn,EXITSn\\n')\n",
    "        for filename in filenames:\n",
    "            with open(filename) as partial_file:\n",
    "                for line in partial_file:\n",
    "                    master_file.write(line)\n",
    "import os\n",
    "days = os.listdir('data')\n",
    "\n",
    "filenames = []\n",
    "for d in days:\n",
    "    filenames.append(f\"data/{d}\")\n",
    "\n",
    "create_master_turnstile_file(filenames, \"data/full_data.txt\")"
   ]
  },
  {
   "cell_type": "markdown",
   "metadata": {},
   "source": [
    "### Exercicio 1.3\n",
    "\n",
    "Neste exercício, escreva um função que leia o master_file criado no exercicio anterior e carregue-o em um pandas dataframe. Esta função deve filtrar para que o dataframe possua apenas linhas onde a coluna \"DESCn\" possua o valor \"Regular\".\n",
    "\n",
    "Por exemplo, se o data frame do pandas estiver conforme abaixo:\n",
    "    \n",
    "    ,C/A,UNIT,SCP,DATEn,TIMEn,DESCn,ENTRIESn,EXITSn\n",
    "    0,A002,R051,02-00-00,05-01-11,00:00:00,REGULAR,3144312,1088151\n",
    "    1,A002,R051,02-00-00,05-01-11,04:00:00,DOOR,3144335,1088159\n",
    "    2,A002,R051,02-00-00,05-01-11,08:00:00,REGULAR,3144353,1088177\n",
    "    3,A002,R051,02-00-00,05-01-11,12:00:00,DOOR,3144424,1088231\n",
    "\n",
    "O dataframe deverá ficar conforme abaixo depois de filtrar apenas as linhas onde a coluna DESCn possua o valor REGULAR:\n",
    "\n",
    "    0,A002,R051,02-00-00,05-01-11,00:00:00,REGULAR,3144312,1088151\n",
    "    2,A002,R051,02-00-00,05-01-11,08:00:00,REGULAR,3144353,1088177\n"
   ]
  },
  {
   "cell_type": "code",
   "execution_count": 6,
   "metadata": {},
   "outputs": [
    {
     "data": {
      "text/html": [
       "<div>\n",
       "<style scoped>\n",
       "    .dataframe tbody tr th:only-of-type {\n",
       "        vertical-align: middle;\n",
       "    }\n",
       "\n",
       "    .dataframe tbody tr th {\n",
       "        vertical-align: top;\n",
       "    }\n",
       "\n",
       "    .dataframe thead th {\n",
       "        text-align: right;\n",
       "    }\n",
       "</style>\n",
       "<table border=\"1\" class=\"dataframe\">\n",
       "  <thead>\n",
       "    <tr style=\"text-align: right;\">\n",
       "      <th></th>\n",
       "      <th>C/A</th>\n",
       "      <th>UNIT</th>\n",
       "      <th>SCP</th>\n",
       "      <th>STATION</th>\n",
       "      <th>LINENAME</th>\n",
       "      <th>DIVISION</th>\n",
       "      <th>DATEn</th>\n",
       "      <th>TIMEn</th>\n",
       "      <th>DESCn</th>\n",
       "      <th>ENTRIESn</th>\n",
       "      <th>EXITSn</th>\n",
       "    </tr>\n",
       "  </thead>\n",
       "  <tbody>\n",
       "    <tr>\n",
       "      <th>1</th>\n",
       "      <td>A002</td>\n",
       "      <td>R051</td>\n",
       "      <td>02-00-00</td>\n",
       "      <td>59 ST</td>\n",
       "      <td>NQR456W</td>\n",
       "      <td>BMT</td>\n",
       "      <td>11/25/2017</td>\n",
       "      <td>03:00:00</td>\n",
       "      <td>REGULAR</td>\n",
       "      <td>0006418978</td>\n",
       "      <td>0002171818                                    ...</td>\n",
       "    </tr>\n",
       "    <tr>\n",
       "      <th>2</th>\n",
       "      <td>A002</td>\n",
       "      <td>R051</td>\n",
       "      <td>02-00-00</td>\n",
       "      <td>59 ST</td>\n",
       "      <td>NQR456W</td>\n",
       "      <td>BMT</td>\n",
       "      <td>11/25/2017</td>\n",
       "      <td>07:00:00</td>\n",
       "      <td>REGULAR</td>\n",
       "      <td>0006418985</td>\n",
       "      <td>0002171833                                    ...</td>\n",
       "    </tr>\n",
       "    <tr>\n",
       "      <th>3</th>\n",
       "      <td>A002</td>\n",
       "      <td>R051</td>\n",
       "      <td>02-00-00</td>\n",
       "      <td>59 ST</td>\n",
       "      <td>NQR456W</td>\n",
       "      <td>BMT</td>\n",
       "      <td>11/25/2017</td>\n",
       "      <td>11:00:00</td>\n",
       "      <td>REGULAR</td>\n",
       "      <td>0006419051</td>\n",
       "      <td>0002171911                                    ...</td>\n",
       "    </tr>\n",
       "    <tr>\n",
       "      <th>4</th>\n",
       "      <td>A002</td>\n",
       "      <td>R051</td>\n",
       "      <td>02-00-00</td>\n",
       "      <td>59 ST</td>\n",
       "      <td>NQR456W</td>\n",
       "      <td>BMT</td>\n",
       "      <td>11/25/2017</td>\n",
       "      <td>15:00:00</td>\n",
       "      <td>REGULAR</td>\n",
       "      <td>0006419204</td>\n",
       "      <td>0002171962                                    ...</td>\n",
       "    </tr>\n",
       "    <tr>\n",
       "      <th>5</th>\n",
       "      <td>A002</td>\n",
       "      <td>R051</td>\n",
       "      <td>02-00-00</td>\n",
       "      <td>59 ST</td>\n",
       "      <td>NQR456W</td>\n",
       "      <td>BMT</td>\n",
       "      <td>11/25/2017</td>\n",
       "      <td>19:00:00</td>\n",
       "      <td>REGULAR</td>\n",
       "      <td>0006419478</td>\n",
       "      <td>0002172011                                    ...</td>\n",
       "    </tr>\n",
       "  </tbody>\n",
       "</table>\n",
       "</div>"
      ],
      "text/plain": [
       "    C/A  UNIT       SCP STATION  LINENAME  DIVISION       DATEn     TIMEn  \\\n",
       "1  A002  R051  02-00-00   59 ST   NQR456W       BMT  11/25/2017  03:00:00   \n",
       "2  A002  R051  02-00-00   59 ST   NQR456W       BMT  11/25/2017  07:00:00   \n",
       "3  A002  R051  02-00-00   59 ST   NQR456W       BMT  11/25/2017  11:00:00   \n",
       "4  A002  R051  02-00-00   59 ST   NQR456W       BMT  11/25/2017  15:00:00   \n",
       "5  A002  R051  02-00-00   59 ST   NQR456W       BMT  11/25/2017  19:00:00   \n",
       "\n",
       "     DESCn    ENTRIESn                                             EXITSn  \n",
       "1  REGULAR  0006418978  0002171818                                    ...  \n",
       "2  REGULAR  0006418985  0002171833                                    ...  \n",
       "3  REGULAR  0006419051  0002171911                                    ...  \n",
       "4  REGULAR  0006419204  0002171962                                    ...  \n",
       "5  REGULAR  0006419478  0002172011                                    ...  "
      ]
     },
     "execution_count": 6,
     "metadata": {},
     "output_type": "execute_result"
    }
   ],
   "source": [
    "import pandas as pd   \n",
    "turnstile_data = pd.read_csv(\"data/full_data.txt\", dtype=object)\n",
    "turnstile_data = turnstile_data[turnstile_data['DESCn'] == 'REGULAR']\n",
    "turnstile_data.head(5)"
   ]
  },
  {
   "cell_type": "markdown",
   "metadata": {},
   "source": [
    "### Transformação de campo date string para datetime"
   ]
  },
  {
   "cell_type": "code",
   "execution_count": 7,
   "metadata": {},
   "outputs": [],
   "source": [
    "turnstile_data[' DATEn'] = turnstile_data[' DATEn'].str.replace('/','-')\n",
    "turnstile_data[' DATEn'] = pd.to_datetime(turnstile_data[' DATEn'])"
   ]
  },
  {
   "cell_type": "markdown",
   "metadata": {},
   "source": [
    "### Criação de colunas year, month e day no dataframe"
   ]
  },
  {
   "cell_type": "code",
   "execution_count": 8,
   "metadata": {},
   "outputs": [],
   "source": [
    "turnstile_data['YEARn'] = turnstile_data[' DATEn'].dt.year\n",
    "turnstile_data['MONTHn'] = turnstile_data[' DATEn'].dt.month\n",
    "turnstile_data['DAYn'] = turnstile_data[' DATEn'].dt.day"
   ]
  },
  {
   "cell_type": "markdown",
   "metadata": {},
   "source": [
    "### Renomeando nomes das colunas a fim de limpar os espaços"
   ]
  },
  {
   "cell_type": "code",
   "execution_count": 9,
   "metadata": {},
   "outputs": [],
   "source": [
    "turnstile_data = turnstile_data.rename(columns={' LINENAME': 'LINENAME', ' DIVISION': 'DIVISION', ' DATEn': 'DATEn'})"
   ]
  },
  {
   "cell_type": "markdown",
   "metadata": {},
   "source": [
    "### Exercicio 1.4\n",
    "\n",
    "Os dados do metrô de NY possui dados cumulativos de entradas e saidas por linha. Assuma que você possui um dataframe chamado df que contém apenas linhas para uma catraca em particular (unico SCP, C/A, e UNIT). A função abaixo deve alterar essas entradas cumulativas para a contagem de entradas desde a última leitura (entradas desde a última linha do dataframe).\n",
    "\n",
    "Mais especificamente, você deverá fazer duas coisas:\n",
    "\n",
    "1 - Criar uma nova coluna chamada ENTRIESn_hourly\n",
    "2 - Inserir nessa coluna a diferença enre ENTRIESn da coluna atual e a da coluna anterior. Se a linha possuir alguma NAN, preencha/substitua por 1.\n",
    "\n",
    "Dica: as funções do pandas shift() e fillna() pode ser úteis nesse exercicio."
   ]
  },
  {
   "cell_type": "code",
   "execution_count": 10,
   "metadata": {},
   "outputs": [],
   "source": [
    "diff = pd.to_numeric(turnstile_data['ENTRIESn']) - pd.to_numeric(turnstile_data['ENTRIESn'].shift(1))\n",
    "turnstile_data['ENTRIESn_hourly'] = diff.fillna(1).astype(int)"
   ]
  },
  {
   "cell_type": "markdown",
   "metadata": {},
   "source": [
    "### Exercicio 1.5\n",
    "\n",
    "Faça o mesmo do exercicio anterior mas agora considerando as saidas, coluna EXITSn.\n",
    "Para isso crie uma coluna chamada de EXITSn_hourly e insira a diferença entre a coluna EXITSn da linha atual versus a linha anterior. Se tiver algum NaN, preencha/substitua por 0."
   ]
  },
  {
   "cell_type": "code",
   "execution_count": 11,
   "metadata": {},
   "outputs": [],
   "source": [
    "diff = pd.to_numeric(turnstile_data['EXITSn']) - pd.to_numeric(turnstile_data['EXITSn'].shift(1))\n",
    "turnstile_data['EXITSn_hourly'] = diff.fillna(0).astype(int)"
   ]
  },
  {
   "cell_type": "markdown",
   "metadata": {},
   "source": [
    "### Exercicio 1.6\n",
    "\n",
    "Dado uma variável de entrada que representa o tempo no formato de \"00:00:00\" (hora: minutos: segundos)\n",
    "    \n",
    "Escreva uma função para extrair a parte da hora do tempo variável de entrada. E devolva-o como um número inteiro. Por exemplo:\n",
    "         \n",
    " * 1) se a hora for 00, seu código deve retornar 0\n",
    " * 2) se a hora for 01, seu código deve retornar 1\n",
    " * 3) se a hora for 21, seu código deve retornar 21\n",
    "        \n",
    "Por favor, devolva a hora como um número inteiro."
   ]
  },
  {
   "cell_type": "code",
   "execution_count": 12,
   "metadata": {},
   "outputs": [],
   "source": [
    "turnstile_data['HOUR'] = turnstile_data['TIMEn'].map(lambda x: int(x.split(':')[0]))"
   ]
  },
  {
   "cell_type": "markdown",
   "metadata": {},
   "source": [
    "## Exercicio 2 - Análise dos dados\n",
    "\n",
    "### Exercicio 2.1\n",
    "\n",
    "Para verificar a relação entre o movimento do metrô e o clima, precisaremos complementar os dados do arquivo já baixado com os dados do clima.\n",
    "Nós complementamos para você este arquivo com os dados de clima de Nova Iorque  e disponibilizamos na área de materiais do projeto. Você pode acessa-lo pelo link: https://s3.amazonaws.com/content.udacity-data.com/courses/ud359/turnstile_data_master_with_weather.csv\n",
    "\n",
    "Agora que temos nossos dados em um arquivo csv, escreva um código python que leia este arquivo e salve-o em um data frame do pandas."
   ]
  },
  {
   "cell_type": "code",
   "execution_count": 1,
   "metadata": {},
   "outputs": [],
   "source": [
    "import pandas as pd\n",
    "masterwithweather = pd.read_csv(\"turnstile_data_master_with_weather.csv\", dtype=object)\n",
    "\n",
    "#----------------------------------\n",
    "#Transformação para númerica contínua\n",
    "#----------------------------------\n",
    "masterwithweather['mintempi'] = masterwithweather['mintempi'].astype('float64')\n",
    "masterwithweather['meantempi'] = masterwithweather['meantempi'].astype('float64')\n",
    "masterwithweather['maxtempi'] = masterwithweather['maxtempi'].astype('float64')\n",
    "masterwithweather['meanwindspdi'] = masterwithweather['meanwindspdi'].astype('float64')\n",
    "masterwithweather['meanpressurei'] = masterwithweather['meanpressurei'].astype('float64')\n",
    "masterwithweather['mindewpti'] = masterwithweather['mindewpti'].astype('float64')\n",
    "masterwithweather['maxdewpti'] = masterwithweather['maxdewpti'].astype('float64')\n",
    "masterwithweather['maxpressurei'] = masterwithweather['maxpressurei'].astype('float64')\n",
    "masterwithweather['precipi'] = masterwithweather['precipi'].astype('float64')\n",
    "\n",
    "#--------------------------------\n",
    "# Transformação para númerica\n",
    "masterwithweather['ENTRIESn_hourly'] = pd.to_numeric(masterwithweather['ENTRIESn_hourly'])\n",
    "# Transformação para númerica\n",
    "masterwithweather['EXITSn_hourly'] = pd.to_numeric(masterwithweather['ENTRIESn_hourly'])\n",
    "# Transformação para datetime\n",
    "masterwithweather['DATEn'] = pd.to_datetime(masterwithweather['DATEn'])\n",
    "# Transformação para númerica\n",
    "masterwithweather['Hour'] = pd.to_numeric(masterwithweather['Hour'])"
   ]
  },
  {
   "cell_type": "markdown",
   "metadata": {},
   "source": [
    "### Exercicio 2.2\n",
    "\n",
    "Agora crie uma função que calcule a quantidade de dias chuvosos, para isso retorne a contagem do numero de dias onde a coluna *\"rain\"* é igual a 1.\n",
    "\n",
    "Dica: Você também pode achar que a interpretação de números como números inteiros ou float pode não funcionar inicialmente. Para contornar esta questão, pode ser útil converter esses números para números inteiros. Isso pode ser feito escrevendo cast (coluna como inteiro). Então, por exemplo, se queríamos lançar a coluna maxtempi como um número inteiro, nós devemos escrever algo como cast (maxtempi as integer) = 76, em oposição a simplesmente onde maxtempi = 76."
   ]
  },
  {
   "cell_type": "code",
   "execution_count": 2,
   "metadata": {},
   "outputs": [],
   "source": [
    "masterwithweather['rain'] = pd.to_numeric(masterwithweather['rain'])\n",
    "num = len(masterwithweather[masterwithweather.rain == 1].groupby('DATEn'))"
   ]
  },
  {
   "cell_type": "markdown",
   "metadata": {},
   "source": [
    "### Exercicio 2.3\n",
    "\n",
    "Calcule se estava nebuloso ou não (0 ou 1) e a temperatura máxima para fog (isto é, a temperatura máxima para dias nebulosos)."
   ]
  },
  {
   "cell_type": "code",
   "execution_count": 43,
   "metadata": {},
   "outputs": [
    {
     "data": {
      "text/plain": [
       "fog\n",
       "0.0    86.0\n",
       "1.0    81.0\n",
       "Name: maxtempi, dtype: float64"
      ]
     },
     "execution_count": 43,
     "metadata": {},
     "output_type": "execute_result"
    }
   ],
   "source": [
    "# Agrupando por fog(dias nubolosos) e retornado com a temperatura máxima\n",
    "masterwithweather.groupby(['fog'])['maxtempi'].max()"
   ]
  },
  {
   "cell_type": "markdown",
   "metadata": {},
   "source": [
    "### Exercicio 2.4\n",
    "\n",
    "Calcule agora a média de 'meantempi' nos dias que são sábado ou domingo (finais de semana):"
   ]
  },
  {
   "cell_type": "code",
   "execution_count": 35,
   "metadata": {},
   "outputs": [
    {
     "name": "stdout",
     "output_type": "stream",
     "text": [
      "A média de meantempi nos dias que são finais de semana é:  65.10066685403307\n"
     ]
    }
   ],
   "source": [
    "masterwithweather['weekday'] = pd.to_datetime(masterwithweather['DATEn']).dt.dayofweek\n",
    "filtered_data = masterwithweather['meantempi'].astype(float)[masterwithweather['weekday'] >= 5]\n",
    "mean_temp_weekends = filtered_data.mean()\n",
    "print(\"A média de meantempi nos dias que são finais de semana é: \", mean_temp_weekends)"
   ]
  },
  {
   "cell_type": "markdown",
   "metadata": {},
   "source": [
    "### Exercicio 2.5\n",
    "\n",
    "Calcule a média da temperatura mínima 'mintempi' nos dias chuvosos onde da temperatura mínima foi maior que do 55 graus:"
   ]
  },
  {
   "cell_type": "code",
   "execution_count": 4,
   "metadata": {},
   "outputs": [
    {
     "name": "stdout",
     "output_type": "stream",
     "text": [
      "A temperatura média nos dias chuvosos onde a temperatura é maior que 55 graus é: 61.238860398860396\n"
     ]
    }
   ],
   "source": [
    "filtered_data = masterwithweather['mintempi'][masterwithweather['rain'] == 1][masterwithweather['mintempi'] > 55]\n",
    "avg_min_temp_rainy = filtered_data.mean()\n",
    "print(\"A temperatura média nos dias chuvosos onde a temperatura é maior que 55 graus é:\", avg_min_temp_rainy)"
   ]
  },
  {
   "cell_type": "markdown",
   "metadata": {},
   "source": [
    "### Exercicio 2.6\n",
    "\n",
    "Antes de realizar qualquer análise, pode ser útil olhar para os dados que esperamos analisar. Mais especificamente, vamos examinR as entradas por hora em nossos dados do metrô de Nova York para determinar a distribuição dos dados. Estes dados são armazenados na coluna ['ENTRIESn_hourly'].\n",
    "    \n",
    "Trace dois histogramas nos mesmos eixos para mostrar as entradas quando esta chovendo vs quando não está chovendo."
   ]
  },
  {
   "cell_type": "code",
   "execution_count": 42,
   "metadata": {},
   "outputs": [
    {
     "data": {
      "image/png": "[encoded data removed]",
      "text/plain": [
       "<Figure size 1224x576 with 1 Axes>"
      ]
     },
     "metadata": {},
     "output_type": "display_data"
    }
   ],
   "source": [
    "# Alterando o tamanho padrão da visualização de dados\n",
    "plt.figure(figsize=(17,8))\n",
    "\n",
    "# Convertendo as variaveis em métricas contínuas\n",
    "masterwithweather['ENTRIESn_hourly'] = pd.to_numeric(masterwithweather['ENTRIESn_hourly'])\n",
    "masterwithweather['rain'] = pd.to_numeric(masterwithweather['rain'])\n",
    "\n",
    "# Filtrando os dias que estão chovendo vs os dias que não estão chovendo\n",
    "masterwithweather[masterwithweather['rain'] == 0]['ENTRIESn_hourly'].hist(alpha = 0.4)\n",
    "masterwithweather['ENTRIESn_hourly'][masterwithweather.rain == 1].hist(alpha = 0.4)\n",
    "\n",
    "# Atributos gerais da visualização de dados\n",
    "plt.title(\"Rainining vs Not Raining\")\n",
    "plt.legend(('Rainining','Not Raining'))\n",
    "plt.xlabel(\"Entries per hour\")\n",
    "plt.show()"
   ]
  },
  {
   "cell_type": "markdown",
   "metadata": {},
   "source": [
    "### Exercicio 2.7\n",
    "\n",
    "Os dados que acabou de plotar que tipo de ditribuição? Existe diferença na distribuição entre dias chuvosos e não chuvosos?"
   ]
  },
  {
   "cell_type": "markdown",
   "metadata": {},
   "source": [
    "**Resposta:**\n",
    "Em ambos os casos, uma distribuição não-normal é visualizada, cuja maior concentração de dados observados (moda) se concentra na extremidade esquerda do gráfico, caracterizando assim uma distribuição inclinada (assimétrica) positiva."
   ]
  },
  {
   "cell_type": "markdown",
   "metadata": {},
   "source": [
    "### Exercicio 2.8\n",
    "Construa uma função que retorne:\n",
    "\n",
    "1. A média das entradas com chuva\n",
    "2. A média das entradas sem chuva"
   ]
  },
  {
   "cell_type": "code",
   "execution_count": 40,
   "metadata": {},
   "outputs": [
    {
     "name": "stdout",
     "output_type": "stream",
     "text": [
      "A média dos dias com chuva, de acordo com o dataset disponível é:  1105.4463767458733\n"
     ]
    }
   ],
   "source": [
    "with_rain_mean = masterwithweather['ENTRIESn_hourly'][masterwithweather['rain'] == 1].mean()\n",
    "print(\"A média dos dias com chuva, de acordo com o dataset disponível é: \", with_rain_mean)"
   ]
  },
  {
   "cell_type": "code",
   "execution_count": 41,
   "metadata": {},
   "outputs": [
    {
     "name": "stdout",
     "output_type": "stream",
     "text": [
      "A média dos dias sem chuva, de acordo com o dataset disponível é:  1090.278780151855\n"
     ]
    }
   ],
   "source": [
    "without_rain_mean = masterwithweather['ENTRIESn_hourly'][masterwithweather['rain'] == 0].mean()\n",
    "print(\"A média dos dias sem chuva, de acordo com o dataset disponível é: \", without_rain_mean)"
   ]
  },
  {
   "cell_type": "markdown",
   "metadata": {},
   "source": [
    "## Exercício 3 - Map Reduce\n",
    "\n",
    "### Exercicio 3.1\n",
    "\n",
    "A entrada para esse exercício e o mesmo arquivo da seção anterior (Exercicio 2). Você pode baixar o arquivo neste link:\n",
    "\n",
    "https://s3.amazonaws.com/content.udacity-data.com/courses/ud359/turnstile_data_master_with_weather.csv\n",
    "\n",
    "Varmos criar um mapeador agora. Para cada linha de entrada, a saída do mapeador deve IMPRIMIR (não retornar) a UNIT como uma chave e o número de ENTRIESn_hourly como o valor. Separe a chave e o valor por uma guia. Por exemplo: 'R002 \\ t105105.0'\n",
    "\n",
    "Exporte seu mapeador em um arquivo chamado mapper_result.txt e envie esse arquivo juntamente com a sua submissão. O código para exportar seu mapeador já está escrito no código abaixo.\n"
   ]
  },
  {
   "cell_type": "code",
   "execution_count": 17,
   "metadata": {},
   "outputs": [],
   "source": [
    "import sys\n",
    "\n",
    "def mapper():\n",
    "\n",
    "    for line in sys.stdin:\n",
    "        data = line.strip().split(\",\")\n",
    "        \n",
    "        if len(data) >= 7:\n",
    "            unit = data[1]\n",
    "            entries = data[6]\n",
    "        \n",
    "            print(f\"{unit}\\t{entries}\")\n",
    "\n",
    "sys.stdin = open('turnstile_data_master_with_weather.csv')\n",
    "sys.stdout = open('mapper_result.txt', 'w')\n",
    "mapper()"
   ]
  },
  {
   "cell_type": "markdown",
   "metadata": {},
   "source": [
    "### Exercicio 3.2\n",
    "\n",
    "Agora crie o redutor. Dado o resultado do mapeador do exercicio anterior, o redutor deve imprimir(Não retornar) uma linha por UNIT, juntamente com o número total de ENTRIESn_hourly.Ao longo de maio (que é a duração dos nossos dados), separados por uma guia. Um exemplo de linha de saída do redutor pode ser assim: 'R001 \\ t500625.0'\n",
    "\n",
    "Você pode assumir que a entrada para o redutor está ordenada de tal forma que todas as linhas correspondentes a uma unidade particular são agrupados. No entanto a saida do redutor terá repetição pois existem lojas que aparecem em locais diferentes dos arquivos.\n",
    "\n",
    "Exporte seu redutor em um arquivo chamado reducer_result.txt e envie esse arquivo juntamente com a sua submissão."
   ]
  },
  {
   "cell_type": "code",
   "execution_count": 18,
   "metadata": {},
   "outputs": [],
   "source": [
    "def reducer():\n",
    "    entriesTotal = 0\n",
    "    oldKey = None\n",
    "\n",
    "    for line in sys.stdin:\n",
    "        data_mapped = line.strip().split(\"\\t\")\n",
    "        if len(data_mapped) != 2:\n",
    "            continue\n",
    "        \n",
    "        thisKey, thisEntry = data_mapped\n",
    "        \n",
    "        try:\n",
    "            thisEntry_to_f = float(thisEntry)\n",
    "            if oldKey and oldKey != thisKey:\n",
    "                print(f\"{oldKey}\\t{entriesTotal}\")\n",
    "                oldKey = thisKey\n",
    "                entriesTotal = 0\n",
    "            \n",
    "            oldKey = thisKey\n",
    "            entriesTotal += thisEntry_to_f\n",
    "        except ValueError:\n",
    "            pass\n",
    "            \n",
    "sys.stdin = open('mapper_result.txt')\n",
    "sys.stdout = open('reducer_result.txt', 'w')\n",
    "reducer()"
   ]
  }
 ],
 "metadata": {
  "kernelspec": {
   "display_name": "Python 3",
   "language": "python",
   "name": "python3"
  },
  "language_info": {
   "codemirror_mode": {
    "name": "ipython",
    "version": 3
   },
   "file_extension": ".py",
   "mimetype": "text/x-python",
   "name": "python",
   "nbconvert_exporter": "python",
   "pygments_lexer": "ipython3",
   "version": "3.6.6"
  }
 },
 "nbformat": 4,
 "nbformat_minor": 2
}
